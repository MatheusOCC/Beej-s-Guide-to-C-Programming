{
  "nbformat": 4,
  "nbformat_minor": 0,
  "metadata": {
    "colab": {
      "name": "Aula1HPFP",
      "provenance": [],
      "authorship_tag": "ABX9TyMXcgfti+3TYrsSxXiPuOUr",
      "include_colab_link": true
    },
    "kernelspec": {
      "name": "python3",
      "display_name": "Python 3"
    }
  },
  "cells": [
    {
      "cell_type": "markdown",
      "metadata": {
        "id": "view-in-github",
        "colab_type": "text"
      },
      "source": [
        "<a href=\"https://colab.research.google.com/github/MatheusOCC/Beej-s-Guide-to-C-Programming/blob/main/Aula1HPFP.ipynb\" target=\"_parent\"><img src=\"https://colab.research.google.com/assets/colab-badge.svg\" alt=\"Open In Colab\"/></a>"
      ]
    },
    {
      "cell_type": "code",
      "metadata": {
        "colab": {
          "base_uri": "https://localhost:8080/"
        },
        "id": "SDi43J3W3yyc",
        "outputId": "f4775318-c42c-4d51-93e1-1e3760918f12"
      },
      "source": [
        "# comentando\n",
        "nome = input(\"apresente-se\\n\")\n",
        "#type(nome)\n",
        "\n",
        "print(\"Calculadora do(a) \" + nome)\n"
      ],
      "execution_count": 6,
      "outputs": [
        {
          "output_type": "stream",
          "text": [
            "apresente-se\n",
            "matheus\n",
            "matheus\n",
            "Calculadora do(a)matheus\n"
          ],
          "name": "stdout"
        }
      ]
    }
  ]
}